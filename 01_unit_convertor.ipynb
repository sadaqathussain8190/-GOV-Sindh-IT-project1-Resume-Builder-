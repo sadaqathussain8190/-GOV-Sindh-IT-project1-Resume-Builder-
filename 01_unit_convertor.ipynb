{
  "nbformat": 4,
  "nbformat_minor": 0,
  "metadata": {
    "colab": {
      "provenance": [],
      "authorship_tag": "ABX9TyPxfQ7krVDh0vVTxpVsi8WW",
      "include_colab_link": true
    },
    "kernelspec": {
      "name": "python3",
      "display_name": "Python 3"
    },
    "language_info": {
      "name": "python"
    }
  },
  "cells": [
    {
      "cell_type": "markdown",
      "metadata": {
        "id": "view-in-github",
        "colab_type": "text"
      },
      "source": [
        "<a href=\"https://colab.research.google.com/github/sadaqathussain8190/-GOV-Sindh-IT-project1-Resume-Builder-/blob/main/01_unit_convertor.ipynb\" target=\"_parent\"><img src=\"https://colab.research.google.com/assets/colab-badge.svg\" alt=\"Open In Colab\"/></a>"
      ]
    },
    {
      "cell_type": "code",
      "execution_count": null,
      "metadata": {
        "id": "mnzCKf2jzHqr"
      },
      "outputs": [],
      "source": []
    },
    {
      "cell_type": "code",
      "source": [
        "def unit_converter():\n",
        "  print(\"Unit Convertor Program:\")\n",
        "  print(\"1. Length(m to km, km to m)\")\n",
        "  print(\"2. Weight(kg to lbs, lbs to kg)\")\n",
        "  print(\"3. Temprature(C to F, F to C )\")\n",
        "\n",
        "  choice = input(\"choice a conversion(1,2 or 3):\").strip()\n",
        "\n",
        "  if choice== \"1\":\n",
        "    unit_type=input(\"convert from m to km or km to m:\")\n",
        "    value=float(input(\"Enter the value:\"))\n",
        "    if unit_type==\"m to km\":\n",
        "      print(f\"({value} meters={value/1000} kilometers)\")\n",
        "    elif unit_type==\"km to m\":\n",
        "      print(f\"({value} kilometers={value/1000} meters)\")\n",
        "\n",
        "  elif choice == \"2\":\n",
        "    unit_type = input(\"Convert from 'kg to lbs' or 'lbs to kg': \").strip().lower()\n",
        "    value = float(input(\"Enter the value: \"))\n",
        "\n",
        "    if unit_type == \"kg to lbs\":\n",
        "        print(f\"{value} kilograms = {value * 2.20462:.2f} pounds\")\n",
        "\n",
        "    elif unit_type == \"lbs to kg\":\n",
        "        print(f\"{value} pounds = {value / 2.20462:.2f} kilograms\")\n",
        "\n",
        "    else:\n",
        "        print(\"Invalid unit type.\")\n",
        "\n",
        "\n",
        "\n",
        "  elif choice == \"3\":\n",
        "    unit_type = input(\"Convert from 'C to F' or 'F to C': \").strip().lower()\n",
        "    value = float(input(\"Enter the value: \"))\n",
        "\n",
        "    if unit_type == \"c to f\":\n",
        "        fahrenheit = (value * 9/5) + 32\n",
        "        print(f\"{value}°C = {fahrenheit:.2f}°F\")\n",
        "\n",
        "    elif unit_type == \"f to c\":\n",
        "        celsius = (value - 32) * 5/9\n",
        "        print(f\"{value}°F = {celsius:.2f}°C\")\n",
        "\n",
        "    else:\n",
        "        print(\"Invalid unit type.\")\n",
        "\n",
        "\n",
        "\n",
        "\n",
        "\n",
        "unit_converter()\n",
        "\n",
        "\n",
        "\n",
        "\n"
      ],
      "metadata": {
        "colab": {
          "base_uri": "https://localhost:8080/"
        },
        "id": "xGEbUHGqzgFU",
        "outputId": "50cdae03-1ff7-4ef8-c0ab-80d353939521"
      },
      "execution_count": null,
      "outputs": [
        {
          "output_type": "stream",
          "name": "stdout",
          "text": [
            "Unit Convertor Program:\n",
            "1. Length(m to km, km to m)\n",
            "2. Weight(kg to lbs, lbs to kg)\n",
            "3. Temprature(C to F, F to C )\n",
            "choice a conversion(1,2 or 3):3\n",
            "Convert from 'C to F' or 'F to C': c to f\n",
            "Enter the value: 25\n",
            "25.0°C = 77.00°F\n"
          ]
        }
      ]
    },
    {
      "cell_type": "code",
      "source": [],
      "metadata": {
        "id": "6kEYi3oO68rw"
      },
      "execution_count": null,
      "outputs": []
    }
  ]
}